{
 "cells": [
  {
   "cell_type": "code",
   "execution_count": 1,
   "metadata": {
    "_cell_guid": "b1076dfc-b9ad-4769-8c92-a6c4dae69d19",
    "_uuid": "8f2839f25d086af736a60e9eeb907d3b93b6e0e5",
    "execution": {
     "iopub.execute_input": "2022-02-16T12:46:27.113168Z",
     "iopub.status.busy": "2022-02-16T12:46:27.112476Z",
     "iopub.status.idle": "2022-02-16T12:46:27.153426Z",
     "shell.execute_reply": "2022-02-16T12:46:27.152661Z",
     "shell.execute_reply.started": "2022-02-16T12:46:27.113056Z"
    }
   },
   "outputs": [],
   "source": [
    "'''General Header for Python Operations'''\n",
    "import numpy as np\n",
    "import pandas as pd\n",
    "import matplotlib.pyplot as plt\n",
    "import warnings\n",
    "import os\n",
    "\n",
    "# set graphics and print options\n",
    "plt.style.use('ggplot')\n",
    "np.set_printoptions(precision=3)\n",
    "\n",
    "# hide warnings\n",
    "warnings.filterwarnings('ignore')\n"
   ]
  },
  {
   "cell_type": "code",
   "execution_count": 2,
   "metadata": {
    "execution": {
     "iopub.execute_input": "2022-02-16T12:46:27.155459Z",
     "iopub.status.busy": "2022-02-16T12:46:27.154764Z",
     "iopub.status.idle": "2022-02-16T12:46:31.137888Z",
     "shell.execute_reply": "2022-02-16T12:46:31.136956Z",
     "shell.execute_reply.started": "2022-02-16T12:46:27.155426Z"
    }
   },
   "outputs": [
    {
     "data": {
      "text/html": [
       "<div>\n",
       "<style scoped>\n",
       "    .dataframe tbody tr th:only-of-type {\n",
       "        vertical-align: middle;\n",
       "    }\n",
       "\n",
       "    .dataframe tbody tr th {\n",
       "        vertical-align: top;\n",
       "    }\n",
       "\n",
       "    .dataframe thead th {\n",
       "        text-align: right;\n",
       "    }\n",
       "</style>\n",
       "<table border=\"1\" class=\"dataframe\">\n",
       "  <thead>\n",
       "    <tr style=\"text-align: right;\">\n",
       "      <th></th>\n",
       "      <th>Unnamed: 0</th>\n",
       "      <th>timestamp</th>\n",
       "      <th>sensor_00</th>\n",
       "      <th>sensor_01</th>\n",
       "      <th>sensor_02</th>\n",
       "      <th>sensor_03</th>\n",
       "      <th>sensor_04</th>\n",
       "      <th>sensor_05</th>\n",
       "      <th>sensor_06</th>\n",
       "      <th>sensor_07</th>\n",
       "      <th>...</th>\n",
       "      <th>sensor_43</th>\n",
       "      <th>sensor_44</th>\n",
       "      <th>sensor_45</th>\n",
       "      <th>sensor_46</th>\n",
       "      <th>sensor_47</th>\n",
       "      <th>sensor_48</th>\n",
       "      <th>sensor_49</th>\n",
       "      <th>sensor_50</th>\n",
       "      <th>sensor_51</th>\n",
       "      <th>machine_status</th>\n",
       "    </tr>\n",
       "  </thead>\n",
       "  <tbody>\n",
       "    <tr>\n",
       "      <th>0</th>\n",
       "      <td>0</td>\n",
       "      <td>2018-04-01 00:00:00</td>\n",
       "      <td>2.465394</td>\n",
       "      <td>47.09201</td>\n",
       "      <td>53.2118</td>\n",
       "      <td>46.310760</td>\n",
       "      <td>634.3750</td>\n",
       "      <td>76.45975</td>\n",
       "      <td>13.41146</td>\n",
       "      <td>16.13136</td>\n",
       "      <td>...</td>\n",
       "      <td>41.92708</td>\n",
       "      <td>39.641200</td>\n",
       "      <td>65.68287</td>\n",
       "      <td>50.92593</td>\n",
       "      <td>38.194440</td>\n",
       "      <td>157.9861</td>\n",
       "      <td>67.70834</td>\n",
       "      <td>243.0556</td>\n",
       "      <td>201.3889</td>\n",
       "      <td>NORMAL</td>\n",
       "    </tr>\n",
       "    <tr>\n",
       "      <th>1</th>\n",
       "      <td>1</td>\n",
       "      <td>2018-04-01 00:01:00</td>\n",
       "      <td>2.465394</td>\n",
       "      <td>47.09201</td>\n",
       "      <td>53.2118</td>\n",
       "      <td>46.310760</td>\n",
       "      <td>634.3750</td>\n",
       "      <td>76.45975</td>\n",
       "      <td>13.41146</td>\n",
       "      <td>16.13136</td>\n",
       "      <td>...</td>\n",
       "      <td>41.92708</td>\n",
       "      <td>39.641200</td>\n",
       "      <td>65.68287</td>\n",
       "      <td>50.92593</td>\n",
       "      <td>38.194440</td>\n",
       "      <td>157.9861</td>\n",
       "      <td>67.70834</td>\n",
       "      <td>243.0556</td>\n",
       "      <td>201.3889</td>\n",
       "      <td>NORMAL</td>\n",
       "    </tr>\n",
       "    <tr>\n",
       "      <th>2</th>\n",
       "      <td>2</td>\n",
       "      <td>2018-04-01 00:02:00</td>\n",
       "      <td>2.444734</td>\n",
       "      <td>47.35243</td>\n",
       "      <td>53.2118</td>\n",
       "      <td>46.397570</td>\n",
       "      <td>638.8889</td>\n",
       "      <td>73.54598</td>\n",
       "      <td>13.32465</td>\n",
       "      <td>16.03733</td>\n",
       "      <td>...</td>\n",
       "      <td>41.66666</td>\n",
       "      <td>39.351852</td>\n",
       "      <td>65.39352</td>\n",
       "      <td>51.21528</td>\n",
       "      <td>38.194443</td>\n",
       "      <td>155.9606</td>\n",
       "      <td>67.12963</td>\n",
       "      <td>241.3194</td>\n",
       "      <td>203.7037</td>\n",
       "      <td>NORMAL</td>\n",
       "    </tr>\n",
       "    <tr>\n",
       "      <th>3</th>\n",
       "      <td>3</td>\n",
       "      <td>2018-04-01 00:03:00</td>\n",
       "      <td>2.460474</td>\n",
       "      <td>47.09201</td>\n",
       "      <td>53.1684</td>\n",
       "      <td>46.397568</td>\n",
       "      <td>628.1250</td>\n",
       "      <td>76.98898</td>\n",
       "      <td>13.31742</td>\n",
       "      <td>16.24711</td>\n",
       "      <td>...</td>\n",
       "      <td>40.88541</td>\n",
       "      <td>39.062500</td>\n",
       "      <td>64.81481</td>\n",
       "      <td>51.21528</td>\n",
       "      <td>38.194440</td>\n",
       "      <td>155.9606</td>\n",
       "      <td>66.84028</td>\n",
       "      <td>240.4514</td>\n",
       "      <td>203.1250</td>\n",
       "      <td>NORMAL</td>\n",
       "    </tr>\n",
       "    <tr>\n",
       "      <th>4</th>\n",
       "      <td>4</td>\n",
       "      <td>2018-04-01 00:04:00</td>\n",
       "      <td>2.445718</td>\n",
       "      <td>47.13541</td>\n",
       "      <td>53.2118</td>\n",
       "      <td>46.397568</td>\n",
       "      <td>636.4583</td>\n",
       "      <td>76.58897</td>\n",
       "      <td>13.35359</td>\n",
       "      <td>16.21094</td>\n",
       "      <td>...</td>\n",
       "      <td>41.40625</td>\n",
       "      <td>38.773150</td>\n",
       "      <td>65.10416</td>\n",
       "      <td>51.79398</td>\n",
       "      <td>38.773150</td>\n",
       "      <td>158.2755</td>\n",
       "      <td>66.55093</td>\n",
       "      <td>242.1875</td>\n",
       "      <td>201.3889</td>\n",
       "      <td>NORMAL</td>\n",
       "    </tr>\n",
       "  </tbody>\n",
       "</table>\n",
       "<p>5 rows × 55 columns</p>\n",
       "</div>"
      ],
      "text/plain": [
       "   Unnamed: 0            timestamp  sensor_00  sensor_01  sensor_02  \\\n",
       "0           0  2018-04-01 00:00:00   2.465394   47.09201    53.2118   \n",
       "1           1  2018-04-01 00:01:00   2.465394   47.09201    53.2118   \n",
       "2           2  2018-04-01 00:02:00   2.444734   47.35243    53.2118   \n",
       "3           3  2018-04-01 00:03:00   2.460474   47.09201    53.1684   \n",
       "4           4  2018-04-01 00:04:00   2.445718   47.13541    53.2118   \n",
       "\n",
       "   sensor_03  sensor_04  sensor_05  sensor_06  sensor_07  ...  sensor_43  \\\n",
       "0  46.310760   634.3750   76.45975   13.41146   16.13136  ...   41.92708   \n",
       "1  46.310760   634.3750   76.45975   13.41146   16.13136  ...   41.92708   \n",
       "2  46.397570   638.8889   73.54598   13.32465   16.03733  ...   41.66666   \n",
       "3  46.397568   628.1250   76.98898   13.31742   16.24711  ...   40.88541   \n",
       "4  46.397568   636.4583   76.58897   13.35359   16.21094  ...   41.40625   \n",
       "\n",
       "   sensor_44  sensor_45  sensor_46  sensor_47  sensor_48  sensor_49  \\\n",
       "0  39.641200   65.68287   50.92593  38.194440   157.9861   67.70834   \n",
       "1  39.641200   65.68287   50.92593  38.194440   157.9861   67.70834   \n",
       "2  39.351852   65.39352   51.21528  38.194443   155.9606   67.12963   \n",
       "3  39.062500   64.81481   51.21528  38.194440   155.9606   66.84028   \n",
       "4  38.773150   65.10416   51.79398  38.773150   158.2755   66.55093   \n",
       "\n",
       "   sensor_50  sensor_51  machine_status  \n",
       "0   243.0556   201.3889          NORMAL  \n",
       "1   243.0556   201.3889          NORMAL  \n",
       "2   241.3194   203.7037          NORMAL  \n",
       "3   240.4514   203.1250          NORMAL  \n",
       "4   242.1875   201.3889          NORMAL  \n",
       "\n",
       "[5 rows x 55 columns]"
      ]
     },
     "execution_count": 2,
     "metadata": {},
     "output_type": "execute_result"
    }
   ],
   "source": [
    "# Import Datasets\n",
    "f_name = 'sensor.csv'\n",
    "raw_data = pd.read_csv(f_name)\n",
    "raw_data.head()"
   ]
  },
  {
   "cell_type": "markdown",
   "metadata": {},
   "source": [
    "## Data Cleaning"
   ]
  },
  {
   "cell_type": "code",
   "execution_count": 3,
   "metadata": {
    "execution": {
     "iopub.execute_input": "2022-02-16T12:46:31.139263Z",
     "iopub.status.busy": "2022-02-16T12:46:31.139040Z",
     "iopub.status.idle": "2022-02-16T12:46:31.201192Z",
     "shell.execute_reply": "2022-02-16T12:46:31.200207Z",
     "shell.execute_reply.started": "2022-02-16T12:46:31.139233Z"
    }
   },
   "outputs": [],
   "source": [
    "# Drop junk columns\n",
    "raw_data.drop(columns=['Unnamed: 0'],inplace=True)"
   ]
  },
  {
   "cell_type": "code",
   "execution_count": 4,
   "metadata": {
    "execution": {
     "iopub.execute_input": "2022-02-16T12:46:31.202935Z",
     "iopub.status.busy": "2022-02-16T12:46:31.202602Z",
     "iopub.status.idle": "2022-02-16T12:46:31.256781Z",
     "shell.execute_reply": "2022-02-16T12:46:31.255543Z",
     "shell.execute_reply.started": "2022-02-16T12:46:31.202872Z"
    }
   },
   "outputs": [
    {
     "name": "stdout",
     "output_type": "stream",
     "text": [
      "220320\n",
      "Column: timestamp, NA Count: 0, Percent NA: 0.0\n",
      "Column: sensor_00, NA Count: 10208, Percent NA: 4.633260711692085\n",
      "Column: sensor_01, NA Count: 369, Percent NA: 0.16748366013071894\n",
      "Column: sensor_02, NA Count: 19, Percent NA: 0.008623819898329702\n",
      "Column: sensor_03, NA Count: 19, Percent NA: 0.008623819898329702\n",
      "Column: sensor_04, NA Count: 19, Percent NA: 0.008623819898329702\n",
      "Column: sensor_05, NA Count: 19, Percent NA: 0.008623819898329702\n",
      "Column: sensor_06, NA Count: 4798, Percent NA: 2.177741466957153\n",
      "Column: sensor_07, NA Count: 5451, Percent NA: 2.474128540305011\n",
      "Column: sensor_08, NA Count: 5107, Percent NA: 2.3179920116194626\n",
      "Column: sensor_09, NA Count: 4595, Percent NA: 2.0856027596223674\n",
      "Column: sensor_10, NA Count: 19, Percent NA: 0.008623819898329702\n",
      "Column: sensor_11, NA Count: 19, Percent NA: 0.008623819898329702\n",
      "Column: sensor_12, NA Count: 19, Percent NA: 0.008623819898329702\n",
      "Column: sensor_13, NA Count: 19, Percent NA: 0.008623819898329702\n",
      "Column: sensor_14, NA Count: 21, Percent NA: 0.009531590413943355\n",
      "Column: sensor_15, NA Count: 220320, Percent NA: 100.0\n",
      "Column: sensor_16, NA Count: 31, Percent NA: 0.014070442992011621\n",
      "Column: sensor_17, NA Count: 46, Percent NA: 0.020878721859114015\n",
      "Column: sensor_18, NA Count: 46, Percent NA: 0.020878721859114015\n",
      "Column: sensor_19, NA Count: 16, Percent NA: 0.007262164124909223\n",
      "Column: sensor_20, NA Count: 16, Percent NA: 0.007262164124909223\n",
      "Column: sensor_21, NA Count: 16, Percent NA: 0.007262164124909223\n",
      "Column: sensor_22, NA Count: 41, Percent NA: 0.018609295570079884\n",
      "Column: sensor_23, NA Count: 16, Percent NA: 0.007262164124909223\n",
      "Column: sensor_24, NA Count: 16, Percent NA: 0.007262164124909223\n",
      "Column: sensor_25, NA Count: 36, Percent NA: 0.01633986928104575\n",
      "Column: sensor_26, NA Count: 20, Percent NA: 0.00907770515613653\n",
      "Column: sensor_27, NA Count: 16, Percent NA: 0.007262164124909223\n",
      "Column: sensor_28, NA Count: 16, Percent NA: 0.007262164124909223\n",
      "Column: sensor_29, NA Count: 72, Percent NA: 0.0326797385620915\n",
      "Column: sensor_30, NA Count: 261, Percent NA: 0.1184640522875817\n",
      "Column: sensor_31, NA Count: 16, Percent NA: 0.007262164124909223\n",
      "Column: sensor_32, NA Count: 68, Percent NA: 0.030864197530864196\n",
      "Column: sensor_33, NA Count: 16, Percent NA: 0.007262164124909223\n",
      "Column: sensor_34, NA Count: 16, Percent NA: 0.007262164124909223\n",
      "Column: sensor_35, NA Count: 16, Percent NA: 0.007262164124909223\n",
      "Column: sensor_36, NA Count: 16, Percent NA: 0.007262164124909223\n",
      "Column: sensor_37, NA Count: 16, Percent NA: 0.007262164124909223\n",
      "Column: sensor_38, NA Count: 27, Percent NA: 0.012254901960784314\n",
      "Column: sensor_39, NA Count: 27, Percent NA: 0.012254901960784314\n",
      "Column: sensor_40, NA Count: 27, Percent NA: 0.012254901960784314\n",
      "Column: sensor_41, NA Count: 27, Percent NA: 0.012254901960784314\n",
      "Column: sensor_42, NA Count: 27, Percent NA: 0.012254901960784314\n",
      "Column: sensor_43, NA Count: 27, Percent NA: 0.012254901960784314\n",
      "Column: sensor_44, NA Count: 27, Percent NA: 0.012254901960784314\n",
      "Column: sensor_45, NA Count: 27, Percent NA: 0.012254901960784314\n",
      "Column: sensor_46, NA Count: 27, Percent NA: 0.012254901960784314\n",
      "Column: sensor_47, NA Count: 27, Percent NA: 0.012254901960784314\n",
      "Column: sensor_48, NA Count: 27, Percent NA: 0.012254901960784314\n",
      "Column: sensor_49, NA Count: 27, Percent NA: 0.012254901960784314\n",
      "Column: sensor_50, NA Count: 77017, Percent NA: 34.95688090050835\n",
      "Column: sensor_51, NA Count: 15383, Percent NA: 6.982116920842412\n",
      "Column: machine_status, NA Count: 0, Percent NA: 0.0\n"
     ]
    }
   ],
   "source": [
    "# examine NA's\n",
    "N = raw_data.shape[0]\n",
    "print(N)\n",
    "for col,na_cnt in enumerate(raw_data.isna().sum()):\n",
    "    print(f'Column: {raw_data.columns[col]}, NA Count: {na_cnt}, Percent NA: {na_cnt/N*100}')"
   ]
  },
  {
   "cell_type": "code",
   "execution_count": 5,
   "metadata": {
    "execution": {
     "iopub.execute_input": "2022-02-16T12:46:31.258998Z",
     "iopub.status.busy": "2022-02-16T12:46:31.258733Z",
     "iopub.status.idle": "2022-02-16T12:46:31.296712Z",
     "shell.execute_reply": "2022-02-16T12:46:31.295990Z",
     "shell.execute_reply.started": "2022-02-16T12:46:31.258969Z"
    }
   },
   "outputs": [
    {
     "data": {
      "text/plain": [
       "Index(['timestamp', 'sensor_00', 'sensor_01', 'sensor_02', 'sensor_03',\n",
       "       'sensor_04', 'sensor_05', 'sensor_06', 'sensor_07', 'sensor_08',\n",
       "       'sensor_09', 'sensor_10', 'sensor_11', 'sensor_12', 'sensor_13',\n",
       "       'sensor_14', 'sensor_16', 'sensor_17', 'sensor_18', 'sensor_19',\n",
       "       'sensor_20', 'sensor_21', 'sensor_22', 'sensor_23', 'sensor_24',\n",
       "       'sensor_25', 'sensor_26', 'sensor_27', 'sensor_28', 'sensor_29',\n",
       "       'sensor_30', 'sensor_31', 'sensor_32', 'sensor_33', 'sensor_34',\n",
       "       'sensor_35', 'sensor_36', 'sensor_37', 'sensor_38', 'sensor_39',\n",
       "       'sensor_40', 'sensor_41', 'sensor_42', 'sensor_43', 'sensor_44',\n",
       "       'sensor_45', 'sensor_46', 'sensor_47', 'sensor_48', 'sensor_49',\n",
       "       'machine_status'],\n",
       "      dtype='object')"
      ]
     },
     "execution_count": 5,
     "metadata": {},
     "output_type": "execute_result"
    }
   ],
   "source": [
    "# drop columns with over 5% missing data\n",
    "drop_cols = ['sensor_15','sensor_50','sensor_51']\n",
    "df = raw_data.drop(columns=drop_cols)\n",
    "df.columns"
   ]
  },
  {
   "cell_type": "code",
   "execution_count": 6,
   "metadata": {
    "execution": {
     "iopub.execute_input": "2022-02-16T12:46:31.298331Z",
     "iopub.status.busy": "2022-02-16T12:46:31.298145Z",
     "iopub.status.idle": "2022-02-16T12:46:31.394675Z",
     "shell.execute_reply": "2022-02-16T12:46:31.393717Z",
     "shell.execute_reply.started": "2022-02-16T12:46:31.298308Z"
    }
   },
   "outputs": [
    {
     "name": "stdout",
     "output_type": "stream",
     "text": [
      "<class 'pandas.core.frame.DataFrame'>\n",
      "DatetimeIndex: 220320 entries, 2018-04-01 00:00:00 to 2018-08-31 23:59:00\n",
      "Data columns (total 50 columns):\n",
      " #   Column          Non-Null Count   Dtype  \n",
      "---  ------          --------------   -----  \n",
      " 0   sensor_00       210112 non-null  float64\n",
      " 1   sensor_01       219951 non-null  float64\n",
      " 2   sensor_02       220301 non-null  float64\n",
      " 3   sensor_03       220301 non-null  float64\n",
      " 4   sensor_04       220301 non-null  float64\n",
      " 5   sensor_05       220301 non-null  float64\n",
      " 6   sensor_06       215522 non-null  float64\n",
      " 7   sensor_07       214869 non-null  float64\n",
      " 8   sensor_08       215213 non-null  float64\n",
      " 9   sensor_09       215725 non-null  float64\n",
      " 10  sensor_10       220301 non-null  float64\n",
      " 11  sensor_11       220301 non-null  float64\n",
      " 12  sensor_12       220301 non-null  float64\n",
      " 13  sensor_13       220301 non-null  float64\n",
      " 14  sensor_14       220299 non-null  float64\n",
      " 15  sensor_16       220289 non-null  float64\n",
      " 16  sensor_17       220274 non-null  float64\n",
      " 17  sensor_18       220274 non-null  float64\n",
      " 18  sensor_19       220304 non-null  float64\n",
      " 19  sensor_20       220304 non-null  float64\n",
      " 20  sensor_21       220304 non-null  float64\n",
      " 21  sensor_22       220279 non-null  float64\n",
      " 22  sensor_23       220304 non-null  float64\n",
      " 23  sensor_24       220304 non-null  float64\n",
      " 24  sensor_25       220284 non-null  float64\n",
      " 25  sensor_26       220300 non-null  float64\n",
      " 26  sensor_27       220304 non-null  float64\n",
      " 27  sensor_28       220304 non-null  float64\n",
      " 28  sensor_29       220248 non-null  float64\n",
      " 29  sensor_30       220059 non-null  float64\n",
      " 30  sensor_31       220304 non-null  float64\n",
      " 31  sensor_32       220252 non-null  float64\n",
      " 32  sensor_33       220304 non-null  float64\n",
      " 33  sensor_34       220304 non-null  float64\n",
      " 34  sensor_35       220304 non-null  float64\n",
      " 35  sensor_36       220304 non-null  float64\n",
      " 36  sensor_37       220304 non-null  float64\n",
      " 37  sensor_38       220293 non-null  float64\n",
      " 38  sensor_39       220293 non-null  float64\n",
      " 39  sensor_40       220293 non-null  float64\n",
      " 40  sensor_41       220293 non-null  float64\n",
      " 41  sensor_42       220293 non-null  float64\n",
      " 42  sensor_43       220293 non-null  float64\n",
      " 43  sensor_44       220293 non-null  float64\n",
      " 44  sensor_45       220293 non-null  float64\n",
      " 45  sensor_46       220293 non-null  float64\n",
      " 46  sensor_47       220293 non-null  float64\n",
      " 47  sensor_48       220293 non-null  float64\n",
      " 48  sensor_49       220293 non-null  float64\n",
      " 49  machine_status  220320 non-null  object \n",
      "dtypes: float64(49), object(1)\n",
      "memory usage: 85.7+ MB\n"
     ]
    }
   ],
   "source": [
    "# convert time stamp to date time object and set as index\n",
    "df.timestamp = pd.to_datetime(df.timestamp)\n",
    "df.set_index('timestamp',inplace=True)\n",
    "df.info()"
   ]
  },
  {
   "cell_type": "code",
   "execution_count": 7,
   "metadata": {
    "execution": {
     "iopub.execute_input": "2022-02-16T12:46:31.396339Z",
     "iopub.status.busy": "2022-02-16T12:46:31.396057Z",
     "iopub.status.idle": "2022-02-16T12:46:31.434596Z",
     "shell.execute_reply": "2022-02-16T12:46:31.433694Z",
     "shell.execute_reply.started": "2022-02-16T12:46:31.396299Z"
    }
   },
   "outputs": [
    {
     "data": {
      "text/plain": [
       "array(['NORMAL', 'BROKEN', 'RECOVERING'], dtype=object)"
      ]
     },
     "metadata": {},
     "output_type": "display_data"
    },
    {
     "data": {
      "text/plain": [
       "NORMAL        205836\n",
       "RECOVERING     14477\n",
       "BROKEN             7\n",
       "Name: machine_status, dtype: int64"
      ]
     },
     "metadata": {},
     "output_type": "display_data"
    }
   ],
   "source": [
    "# Find Status Indicators\n",
    "display(df.machine_status.unique())\n",
    "display(df.machine_status.value_counts())"
   ]
  },
  {
   "cell_type": "code",
   "execution_count": 8,
   "metadata": {
    "execution": {
     "iopub.execute_input": "2022-02-16T12:46:31.436113Z",
     "iopub.status.busy": "2022-02-16T12:46:31.435769Z",
     "iopub.status.idle": "2022-02-16T12:46:31.585709Z",
     "shell.execute_reply": "2022-02-16T12:46:31.584849Z",
     "shell.execute_reply.started": "2022-02-16T12:46:31.436080Z"
    }
   },
   "outputs": [
    {
     "data": {
      "text/html": [
       "<div>\n",
       "<style scoped>\n",
       "    .dataframe tbody tr th:only-of-type {\n",
       "        vertical-align: middle;\n",
       "    }\n",
       "\n",
       "    .dataframe tbody tr th {\n",
       "        vertical-align: top;\n",
       "    }\n",
       "\n",
       "    .dataframe thead th {\n",
       "        text-align: right;\n",
       "    }\n",
       "</style>\n",
       "<table border=\"1\" class=\"dataframe\">\n",
       "  <thead>\n",
       "    <tr style=\"text-align: right;\">\n",
       "      <th></th>\n",
       "      <th>sensor_00</th>\n",
       "      <th>sensor_01</th>\n",
       "      <th>sensor_02</th>\n",
       "      <th>sensor_03</th>\n",
       "      <th>sensor_04</th>\n",
       "      <th>sensor_05</th>\n",
       "      <th>sensor_06</th>\n",
       "      <th>sensor_07</th>\n",
       "      <th>sensor_08</th>\n",
       "      <th>sensor_09</th>\n",
       "      <th>...</th>\n",
       "      <th>sensor_44</th>\n",
       "      <th>sensor_45</th>\n",
       "      <th>sensor_46</th>\n",
       "      <th>sensor_47</th>\n",
       "      <th>sensor_48</th>\n",
       "      <th>sensor_49</th>\n",
       "      <th>machine_status</th>\n",
       "      <th>STATUS__BROKEN</th>\n",
       "      <th>STATUS__NORMAL</th>\n",
       "      <th>STATUS__RECOVERING</th>\n",
       "    </tr>\n",
       "    <tr>\n",
       "      <th>timestamp</th>\n",
       "      <th></th>\n",
       "      <th></th>\n",
       "      <th></th>\n",
       "      <th></th>\n",
       "      <th></th>\n",
       "      <th></th>\n",
       "      <th></th>\n",
       "      <th></th>\n",
       "      <th></th>\n",
       "      <th></th>\n",
       "      <th></th>\n",
       "      <th></th>\n",
       "      <th></th>\n",
       "      <th></th>\n",
       "      <th></th>\n",
       "      <th></th>\n",
       "      <th></th>\n",
       "      <th></th>\n",
       "      <th></th>\n",
       "      <th></th>\n",
       "      <th></th>\n",
       "    </tr>\n",
       "  </thead>\n",
       "  <tbody>\n",
       "    <tr>\n",
       "      <th>2018-04-01 00:00:00</th>\n",
       "      <td>2.465394</td>\n",
       "      <td>47.09201</td>\n",
       "      <td>53.2118</td>\n",
       "      <td>46.310760</td>\n",
       "      <td>634.3750</td>\n",
       "      <td>76.45975</td>\n",
       "      <td>13.41146</td>\n",
       "      <td>16.13136</td>\n",
       "      <td>15.56713</td>\n",
       "      <td>15.05353</td>\n",
       "      <td>...</td>\n",
       "      <td>39.641200</td>\n",
       "      <td>65.68287</td>\n",
       "      <td>50.92593</td>\n",
       "      <td>38.194440</td>\n",
       "      <td>157.9861</td>\n",
       "      <td>67.70834</td>\n",
       "      <td>NORMAL</td>\n",
       "      <td>0</td>\n",
       "      <td>1</td>\n",
       "      <td>0</td>\n",
       "    </tr>\n",
       "    <tr>\n",
       "      <th>2018-04-01 00:01:00</th>\n",
       "      <td>2.465394</td>\n",
       "      <td>47.09201</td>\n",
       "      <td>53.2118</td>\n",
       "      <td>46.310760</td>\n",
       "      <td>634.3750</td>\n",
       "      <td>76.45975</td>\n",
       "      <td>13.41146</td>\n",
       "      <td>16.13136</td>\n",
       "      <td>15.56713</td>\n",
       "      <td>15.05353</td>\n",
       "      <td>...</td>\n",
       "      <td>39.641200</td>\n",
       "      <td>65.68287</td>\n",
       "      <td>50.92593</td>\n",
       "      <td>38.194440</td>\n",
       "      <td>157.9861</td>\n",
       "      <td>67.70834</td>\n",
       "      <td>NORMAL</td>\n",
       "      <td>0</td>\n",
       "      <td>1</td>\n",
       "      <td>0</td>\n",
       "    </tr>\n",
       "    <tr>\n",
       "      <th>2018-04-01 00:02:00</th>\n",
       "      <td>2.444734</td>\n",
       "      <td>47.35243</td>\n",
       "      <td>53.2118</td>\n",
       "      <td>46.397570</td>\n",
       "      <td>638.8889</td>\n",
       "      <td>73.54598</td>\n",
       "      <td>13.32465</td>\n",
       "      <td>16.03733</td>\n",
       "      <td>15.61777</td>\n",
       "      <td>15.01013</td>\n",
       "      <td>...</td>\n",
       "      <td>39.351852</td>\n",
       "      <td>65.39352</td>\n",
       "      <td>51.21528</td>\n",
       "      <td>38.194443</td>\n",
       "      <td>155.9606</td>\n",
       "      <td>67.12963</td>\n",
       "      <td>NORMAL</td>\n",
       "      <td>0</td>\n",
       "      <td>1</td>\n",
       "      <td>0</td>\n",
       "    </tr>\n",
       "    <tr>\n",
       "      <th>2018-04-01 00:03:00</th>\n",
       "      <td>2.460474</td>\n",
       "      <td>47.09201</td>\n",
       "      <td>53.1684</td>\n",
       "      <td>46.397568</td>\n",
       "      <td>628.1250</td>\n",
       "      <td>76.98898</td>\n",
       "      <td>13.31742</td>\n",
       "      <td>16.24711</td>\n",
       "      <td>15.69734</td>\n",
       "      <td>15.08247</td>\n",
       "      <td>...</td>\n",
       "      <td>39.062500</td>\n",
       "      <td>64.81481</td>\n",
       "      <td>51.21528</td>\n",
       "      <td>38.194440</td>\n",
       "      <td>155.9606</td>\n",
       "      <td>66.84028</td>\n",
       "      <td>NORMAL</td>\n",
       "      <td>0</td>\n",
       "      <td>1</td>\n",
       "      <td>0</td>\n",
       "    </tr>\n",
       "    <tr>\n",
       "      <th>2018-04-01 00:04:00</th>\n",
       "      <td>2.445718</td>\n",
       "      <td>47.13541</td>\n",
       "      <td>53.2118</td>\n",
       "      <td>46.397568</td>\n",
       "      <td>636.4583</td>\n",
       "      <td>76.58897</td>\n",
       "      <td>13.35359</td>\n",
       "      <td>16.21094</td>\n",
       "      <td>15.69734</td>\n",
       "      <td>15.08247</td>\n",
       "      <td>...</td>\n",
       "      <td>38.773150</td>\n",
       "      <td>65.10416</td>\n",
       "      <td>51.79398</td>\n",
       "      <td>38.773150</td>\n",
       "      <td>158.2755</td>\n",
       "      <td>66.55093</td>\n",
       "      <td>NORMAL</td>\n",
       "      <td>0</td>\n",
       "      <td>1</td>\n",
       "      <td>0</td>\n",
       "    </tr>\n",
       "  </tbody>\n",
       "</table>\n",
       "<p>5 rows × 53 columns</p>\n",
       "</div>"
      ],
      "text/plain": [
       "                     sensor_00  sensor_01  sensor_02  sensor_03  sensor_04  \\\n",
       "timestamp                                                                    \n",
       "2018-04-01 00:00:00   2.465394   47.09201    53.2118  46.310760   634.3750   \n",
       "2018-04-01 00:01:00   2.465394   47.09201    53.2118  46.310760   634.3750   \n",
       "2018-04-01 00:02:00   2.444734   47.35243    53.2118  46.397570   638.8889   \n",
       "2018-04-01 00:03:00   2.460474   47.09201    53.1684  46.397568   628.1250   \n",
       "2018-04-01 00:04:00   2.445718   47.13541    53.2118  46.397568   636.4583   \n",
       "\n",
       "                     sensor_05  sensor_06  sensor_07  sensor_08  sensor_09  \\\n",
       "timestamp                                                                    \n",
       "2018-04-01 00:00:00   76.45975   13.41146   16.13136   15.56713   15.05353   \n",
       "2018-04-01 00:01:00   76.45975   13.41146   16.13136   15.56713   15.05353   \n",
       "2018-04-01 00:02:00   73.54598   13.32465   16.03733   15.61777   15.01013   \n",
       "2018-04-01 00:03:00   76.98898   13.31742   16.24711   15.69734   15.08247   \n",
       "2018-04-01 00:04:00   76.58897   13.35359   16.21094   15.69734   15.08247   \n",
       "\n",
       "                     ...  sensor_44  sensor_45  sensor_46  sensor_47  \\\n",
       "timestamp            ...                                               \n",
       "2018-04-01 00:00:00  ...  39.641200   65.68287   50.92593  38.194440   \n",
       "2018-04-01 00:01:00  ...  39.641200   65.68287   50.92593  38.194440   \n",
       "2018-04-01 00:02:00  ...  39.351852   65.39352   51.21528  38.194443   \n",
       "2018-04-01 00:03:00  ...  39.062500   64.81481   51.21528  38.194440   \n",
       "2018-04-01 00:04:00  ...  38.773150   65.10416   51.79398  38.773150   \n",
       "\n",
       "                     sensor_48  sensor_49  machine_status  STATUS__BROKEN  \\\n",
       "timestamp                                                                   \n",
       "2018-04-01 00:00:00   157.9861   67.70834          NORMAL               0   \n",
       "2018-04-01 00:01:00   157.9861   67.70834          NORMAL               0   \n",
       "2018-04-01 00:02:00   155.9606   67.12963          NORMAL               0   \n",
       "2018-04-01 00:03:00   155.9606   66.84028          NORMAL               0   \n",
       "2018-04-01 00:04:00   158.2755   66.55093          NORMAL               0   \n",
       "\n",
       "                     STATUS__NORMAL  STATUS__RECOVERING  \n",
       "timestamp                                                \n",
       "2018-04-01 00:00:00               1                   0  \n",
       "2018-04-01 00:01:00               1                   0  \n",
       "2018-04-01 00:02:00               1                   0  \n",
       "2018-04-01 00:03:00               1                   0  \n",
       "2018-04-01 00:04:00               1                   0  \n",
       "\n",
       "[5 rows x 53 columns]"
      ]
     },
     "execution_count": 8,
     "metadata": {},
     "output_type": "execute_result"
    }
   ],
   "source": [
    "# Get binary dummy vals for machine status\n",
    "df = df.join(pd.get_dummies(df.machine_status,prefix='STATUS_'),on='timestamp',how='inner')\n",
    "df.head()\n"
   ]
  },
  {
   "cell_type": "raw",
   "metadata": {
    "execution": {
     "iopub.execute_input": "2022-02-14T14:45:02.948216Z",
     "iopub.status.busy": "2022-02-14T14:45:02.94783Z",
     "iopub.status.idle": "2022-02-14T14:47:01.386584Z",
     "shell.execute_reply": "2022-02-14T14:47:01.385836Z",
     "shell.execute_reply.started": "2022-02-14T14:45:02.948167Z"
    },
    "scrolled": false
   },
   "source": [
    "'''Plot data to decide how to handle NA's and recovering status'''\n",
    "_ = df.plot(subplots=True,figsize=(10,40),marker = '.',linestyle='None')"
   ]
  },
  {
   "cell_type": "code",
   "execution_count": 9,
   "metadata": {
    "execution": {
     "iopub.execute_input": "2022-02-16T12:46:31.587029Z",
     "iopub.status.busy": "2022-02-16T12:46:31.586788Z",
     "iopub.status.idle": "2022-02-16T12:46:31.632985Z",
     "shell.execute_reply": "2022-02-16T12:46:31.631983Z",
     "shell.execute_reply.started": "2022-02-16T12:46:31.587000Z"
    }
   },
   "outputs": [],
   "source": [
    "# Drop values with recovering status as pump appears to be not running\n",
    "df = df.loc[df.STATUS__RECOVERING != 1]"
   ]
  },
  {
   "cell_type": "raw",
   "metadata": {
    "execution": {
     "iopub.execute_input": "2022-02-14T14:47:01.439871Z",
     "iopub.status.busy": "2022-02-14T14:47:01.439603Z",
     "iopub.status.idle": "2022-02-14T14:48:14.789011Z",
     "shell.execute_reply": "2022-02-14T14:48:14.788029Z",
     "shell.execute_reply.started": "2022-02-14T14:47:01.439828Z"
    },
    "scrolled": false
   },
   "source": [
    "''' re-plot'''\n",
    "_ = df.plot(subplots=True,figsize=(10,40),marker = '.',linestyle='None')"
   ]
  },
  {
   "cell_type": "code",
   "execution_count": 10,
   "metadata": {
    "execution": {
     "iopub.execute_input": "2022-02-16T12:46:31.634557Z",
     "iopub.status.busy": "2022-02-16T12:46:31.634340Z",
     "iopub.status.idle": "2022-02-16T12:46:32.162901Z",
     "shell.execute_reply": "2022-02-16T12:46:32.162077Z",
     "shell.execute_reply.started": "2022-02-16T12:46:31.634533Z"
    }
   },
   "outputs": [
    {
     "data": {
      "text/plain": [
       "sensor_00             0\n",
       "sensor_01             0\n",
       "sensor_02             0\n",
       "sensor_03             0\n",
       "sensor_04             0\n",
       "sensor_05             0\n",
       "sensor_06             0\n",
       "sensor_07             0\n",
       "sensor_08             0\n",
       "sensor_09             0\n",
       "sensor_10             0\n",
       "sensor_11             0\n",
       "sensor_12             0\n",
       "sensor_13             0\n",
       "sensor_14             0\n",
       "sensor_16             0\n",
       "sensor_17             0\n",
       "sensor_18             0\n",
       "sensor_19             0\n",
       "sensor_20             0\n",
       "sensor_21             0\n",
       "sensor_22             0\n",
       "sensor_23             0\n",
       "sensor_24             0\n",
       "sensor_25             0\n",
       "sensor_26             0\n",
       "sensor_27             0\n",
       "sensor_28             0\n",
       "sensor_29             0\n",
       "sensor_30             0\n",
       "sensor_31             0\n",
       "sensor_32             0\n",
       "sensor_33             0\n",
       "sensor_34             0\n",
       "sensor_35             0\n",
       "sensor_36             0\n",
       "sensor_37             0\n",
       "sensor_38             0\n",
       "sensor_39             0\n",
       "sensor_40             0\n",
       "sensor_41             0\n",
       "sensor_42             0\n",
       "sensor_43             0\n",
       "sensor_44             0\n",
       "sensor_45             0\n",
       "sensor_46             0\n",
       "sensor_47             0\n",
       "sensor_48             0\n",
       "sensor_49             0\n",
       "machine_status        0\n",
       "STATUS__BROKEN        0\n",
       "STATUS__NORMAL        0\n",
       "STATUS__RECOVERING    0\n",
       "dtype: int64"
      ]
     },
     "execution_count": 10,
     "metadata": {},
     "output_type": "execute_result"
    }
   ],
   "source": [
    "# use linear interpolation for remaining NA's\n",
    "sensors = []\n",
    "for col in df.columns:\n",
    "    if 'sensor' in col:\n",
    "        sensors.append(col)\n",
    "df[sensors] = df[sensors].interpolate(method='linear')\n",
    "df.isna().sum()"
   ]
  },
  {
   "cell_type": "markdown",
   "metadata": {},
   "source": [
    "## Engineer Features"
   ]
  },
  {
   "cell_type": "code",
   "execution_count": 11,
   "metadata": {
    "execution": {
     "iopub.execute_input": "2022-02-16T12:46:32.164715Z",
     "iopub.status.busy": "2022-02-16T12:46:32.164426Z",
     "iopub.status.idle": "2022-02-16T12:46:32.169100Z",
     "shell.execute_reply": "2022-02-16T12:46:32.168375Z",
     "shell.execute_reply.started": "2022-02-16T12:46:32.164679Z"
    }
   },
   "outputs": [],
   "source": [
    "import datetime as dt\n",
    "forecast_window = dt.timedelta(days= 5) # assumes the pump is in failure mode prior to complete breakdown 7 days before catostrophic failure\n",
    "feature_window = dt.timedelta(days = 5) # assume sensor data is only relavent to the currwent machine state for 30 days\n",
    "target_window = dt.timedelta(days = 10) # period before the failure we'd like to be able to predict pending failure\n"
   ]
  },
  {
   "cell_type": "code",
   "execution_count": 12,
   "metadata": {
    "execution": {
     "iopub.execute_input": "2022-02-16T12:46:32.170267Z",
     "iopub.status.busy": "2022-02-16T12:46:32.170060Z",
     "iopub.status.idle": "2022-02-16T12:46:32.765727Z",
     "shell.execute_reply": "2022-02-16T12:46:32.764845Z",
     "shell.execute_reply.started": "2022-02-16T12:46:32.170236Z"
    }
   },
   "outputs": [
    {
     "name": "stdout",
     "output_type": "stream",
     "text": [
      "\n",
      "failure date: 2018-04-12 21:55:00\n",
      "beginnng failure date: 2018-04-07 21:55:00\n",
      "forecast window begin and end dates: 2018-04-07 21:55:00 2018-04-12 21:55:00\n",
      "target window begin and end dates: 2018-04-02 21:55:00 2018-04-12 21:55:00\n",
      "\n",
      "failure date: 2018-04-18 00:30:00\n",
      "beginnng failure date: 2018-04-13 00:30:00\n",
      "forecast window begin and end dates: 2018-04-13 13:40:00 2018-04-18 00:30:00\n",
      "target window begin and end dates: 2018-04-08 00:30:00 2018-04-18 00:30:00\n",
      "\n",
      "failure date: 2018-05-19 03:18:00\n",
      "beginnng failure date: 2018-05-14 03:18:00\n",
      "forecast window begin and end dates: 2018-05-14 03:18:00 2018-05-19 03:18:00\n",
      "target window begin and end dates: 2018-05-09 03:18:00 2018-05-19 03:18:00\n",
      "\n",
      "failure date: 2018-05-25 00:30:00\n",
      "beginnng failure date: 2018-05-20 00:30:00\n",
      "forecast window begin and end dates: 2018-05-20 01:11:00 2018-05-25 00:30:00\n",
      "target window begin and end dates: 2018-05-15 00:30:00 2018-05-25 00:30:00\n",
      "\n",
      "failure date: 2018-06-28 22:00:00\n",
      "beginnng failure date: 2018-06-23 22:00:00\n",
      "forecast window begin and end dates: 2018-06-23 22:00:00 2018-06-28 22:00:00\n",
      "target window begin and end dates: 2018-06-18 22:00:00 2018-06-28 22:00:00\n",
      "\n",
      "failure date: 2018-07-08 00:11:00\n",
      "beginnng failure date: 2018-07-03 00:11:00\n",
      "forecast window begin and end dates: 2018-07-04 17:51:00 2018-07-08 00:11:00\n",
      "target window begin and end dates: 2018-06-28 00:11:00 2018-07-08 00:11:00\n",
      "\n",
      "failure date: 2018-07-25 14:00:00\n",
      "beginnng failure date: 2018-07-20 14:00:00\n",
      "forecast window begin and end dates: 2018-07-20 14:00:00 2018-07-25 14:00:00\n",
      "target window begin and end dates: 2018-07-15 14:00:00 2018-07-25 14:00:00\n"
     ]
    }
   ],
   "source": [
    "# mark forecast window for failure and target window indicators\n",
    "df['forecast_indicator'] = df.STATUS__BROKEN\n",
    "df['target_indicator'] = df.STATUS__BROKEN\n",
    "failure_dates = df.index[df.STATUS__BROKEN==1]\n",
    "\n",
    "\n",
    "for date in failure_dates:\n",
    "    \n",
    "    # forecast indicator\n",
    "    print('\\nfailure date:',date)\n",
    "    print('beginnng failure date:', date-forecast_window)\n",
    "    failure_range = (df.index >= date-forecast_window) & (df.index <= date)\n",
    "    failure_range = df.index[failure_range]\n",
    "    print('forecast window begin and end dates:',min(failure_range),max(failure_range))\n",
    "    df['forecast_indicator'].loc[failure_range] = 1\n",
    "    \n",
    "    #target window\n",
    "    failure_range = (df.index >= date-target_window) & (df.index <= date)\n",
    "    failure_range = df.index[failure_range]\n",
    "    print('target window begin and end dates:',min(failure_range),max(failure_range))\n",
    "    df['target_indicator'].loc[failure_range] = 1\n",
    "    \n"
   ]
  },
  {
   "cell_type": "code",
   "execution_count": 13,
   "metadata": {
    "execution": {
     "iopub.execute_input": "2022-02-16T12:46:32.767529Z",
     "iopub.status.busy": "2022-02-16T12:46:32.767194Z",
     "iopub.status.idle": "2022-02-16T12:46:35.979811Z",
     "shell.execute_reply": "2022-02-16T12:46:35.978822Z",
     "shell.execute_reply.started": "2022-02-16T12:46:32.767488Z"
    }
   },
   "outputs": [
    {
     "data": {
      "image/png": "[encoded data removed]",
      "text/plain": [
       "<Figure size 1080x576 with 3 Axes>"
      ]
     },
     "metadata": {},
     "output_type": "display_data"
    }
   ],
   "source": [
    "_=df[['STATUS__BROKEN','forecast_indicator','target_indicator']].plot(figsize=(15,8),subplots=True,marker='.',linestyle='None')"
   ]
  },
  {
   "cell_type": "code",
   "execution_count": 14,
   "metadata": {
    "execution": {
     "iopub.execute_input": "2022-02-16T12:46:35.984555Z",
     "iopub.status.busy": "2022-02-16T12:46:35.984213Z",
     "iopub.status.idle": "2022-02-16T12:46:35.994670Z",
     "shell.execute_reply": "2022-02-16T12:46:35.993956Z",
     "shell.execute_reply.started": "2022-02-16T12:46:35.984524Z"
    }
   },
   "outputs": [
    {
     "data": {
      "text/plain": [
       "0    158767\n",
       "1     47076\n",
       "Name: forecast_indicator, dtype: int64"
      ]
     },
     "execution_count": 14,
     "metadata": {},
     "output_type": "execute_result"
    }
   ],
   "source": [
    "df.forecast_indicator.value_counts()"
   ]
  },
  {
   "cell_type": "code",
   "execution_count": 15,
   "metadata": {
    "execution": {
     "iopub.execute_input": "2022-02-16T12:46:35.996329Z",
     "iopub.status.busy": "2022-02-16T12:46:35.996121Z",
     "iopub.status.idle": "2022-02-16T12:46:36.424477Z",
     "shell.execute_reply": "2022-02-16T12:46:36.423584Z",
     "shell.execute_reply.started": "2022-02-16T12:46:35.996304Z"
    }
   },
   "outputs": [
    {
     "data": {
      "text/html": [
       "<div>\n",
       "<style scoped>\n",
       "    .dataframe tbody tr th:only-of-type {\n",
       "        vertical-align: middle;\n",
       "    }\n",
       "\n",
       "    .dataframe tbody tr th {\n",
       "        vertical-align: top;\n",
       "    }\n",
       "\n",
       "    .dataframe thead th {\n",
       "        text-align: right;\n",
       "    }\n",
       "</style>\n",
       "<table border=\"1\" class=\"dataframe\">\n",
       "  <thead>\n",
       "    <tr style=\"text-align: right;\">\n",
       "      <th></th>\n",
       "      <th>sensor_00</th>\n",
       "      <th>sensor_01</th>\n",
       "      <th>sensor_02</th>\n",
       "      <th>sensor_03</th>\n",
       "      <th>sensor_04</th>\n",
       "      <th>sensor_05</th>\n",
       "      <th>sensor_06</th>\n",
       "      <th>sensor_07</th>\n",
       "      <th>sensor_08</th>\n",
       "      <th>sensor_09</th>\n",
       "      <th>...</th>\n",
       "      <th>sensor_45</th>\n",
       "      <th>sensor_46</th>\n",
       "      <th>sensor_47</th>\n",
       "      <th>sensor_48</th>\n",
       "      <th>sensor_49</th>\n",
       "      <th>STATUS__BROKEN</th>\n",
       "      <th>STATUS__NORMAL</th>\n",
       "      <th>STATUS__RECOVERING</th>\n",
       "      <th>forecast_indicator</th>\n",
       "      <th>target_indicator</th>\n",
       "    </tr>\n",
       "  </thead>\n",
       "  <tbody>\n",
       "    <tr>\n",
       "      <th>count</th>\n",
       "      <td>205843.000000</td>\n",
       "      <td>205843.000000</td>\n",
       "      <td>205843.000000</td>\n",
       "      <td>205843.000000</td>\n",
       "      <td>205843.000000</td>\n",
       "      <td>205843.000000</td>\n",
       "      <td>205843.000000</td>\n",
       "      <td>205843.000000</td>\n",
       "      <td>205843.000000</td>\n",
       "      <td>205843.000000</td>\n",
       "      <td>...</td>\n",
       "      <td>205843.000000</td>\n",
       "      <td>205843.000000</td>\n",
       "      <td>205843.000000</td>\n",
       "      <td>205843.000000</td>\n",
       "      <td>205843.000000</td>\n",
       "      <td>205843.000000</td>\n",
       "      <td>205843.000000</td>\n",
       "      <td>205843.0</td>\n",
       "      <td>205843.000000</td>\n",
       "      <td>205843.000000</td>\n",
       "    </tr>\n",
       "    <tr>\n",
       "      <th>mean</th>\n",
       "      <td>2.420437</td>\n",
       "      <td>48.186290</td>\n",
       "      <td>51.636893</td>\n",
       "      <td>44.166968</td>\n",
       "      <td>625.663672</td>\n",
       "      <td>75.388813</td>\n",
       "      <td>13.864926</td>\n",
       "      <td>16.165907</td>\n",
       "      <td>15.478043</td>\n",
       "      <td>15.086584</td>\n",
       "      <td>...</td>\n",
       "      <td>43.783973</td>\n",
       "      <td>48.858442</td>\n",
       "      <td>45.047070</td>\n",
       "      <td>158.885860</td>\n",
       "      <td>58.570222</td>\n",
       "      <td>0.000034</td>\n",
       "      <td>0.999966</td>\n",
       "      <td>0.0</td>\n",
       "      <td>0.228699</td>\n",
       "      <td>0.368611</td>\n",
       "    </tr>\n",
       "    <tr>\n",
       "      <th>std</th>\n",
       "      <td>0.242638</td>\n",
       "      <td>2.246675</td>\n",
       "      <td>1.878307</td>\n",
       "      <td>1.668246</td>\n",
       "      <td>50.857103</td>\n",
       "      <td>9.384401</td>\n",
       "      <td>0.865803</td>\n",
       "      <td>0.601501</td>\n",
       "      <td>0.589581</td>\n",
       "      <td>0.573911</td>\n",
       "      <td>...</td>\n",
       "      <td>12.439357</td>\n",
       "      <td>14.677599</td>\n",
       "      <td>9.999353</td>\n",
       "      <td>78.707095</td>\n",
       "      <td>17.939513</td>\n",
       "      <td>0.005831</td>\n",
       "      <td>0.005831</td>\n",
       "      <td>0.0</td>\n",
       "      <td>0.419996</td>\n",
       "      <td>0.482429</td>\n",
       "    </tr>\n",
       "    <tr>\n",
       "      <th>min</th>\n",
       "      <td>0.000000</td>\n",
       "      <td>0.000000</td>\n",
       "      <td>37.413190</td>\n",
       "      <td>33.289930</td>\n",
       "      <td>2.798032</td>\n",
       "      <td>0.000000</td>\n",
       "      <td>0.014468</td>\n",
       "      <td>0.028935</td>\n",
       "      <td>0.028935</td>\n",
       "      <td>0.007234</td>\n",
       "      <td>...</td>\n",
       "      <td>27.199070</td>\n",
       "      <td>29.513889</td>\n",
       "      <td>28.935180</td>\n",
       "      <td>28.935180</td>\n",
       "      <td>29.224537</td>\n",
       "      <td>0.000000</td>\n",
       "      <td>0.000000</td>\n",
       "      <td>0.0</td>\n",
       "      <td>0.000000</td>\n",
       "      <td>0.000000</td>\n",
       "    </tr>\n",
       "    <tr>\n",
       "      <th>25%</th>\n",
       "      <td>2.444734</td>\n",
       "      <td>46.701390</td>\n",
       "      <td>50.651040</td>\n",
       "      <td>43.142361</td>\n",
       "      <td>628.240700</td>\n",
       "      <td>70.501090</td>\n",
       "      <td>13.382520</td>\n",
       "      <td>15.950520</td>\n",
       "      <td>15.183740</td>\n",
       "      <td>15.053530</td>\n",
       "      <td>...</td>\n",
       "      <td>37.615740</td>\n",
       "      <td>41.087960</td>\n",
       "      <td>39.641200</td>\n",
       "      <td>92.592590</td>\n",
       "      <td>48.900460</td>\n",
       "      <td>0.000000</td>\n",
       "      <td>1.000000</td>\n",
       "      <td>0.0</td>\n",
       "      <td>0.000000</td>\n",
       "      <td>0.000000</td>\n",
       "    </tr>\n",
       "    <tr>\n",
       "      <th>50%</th>\n",
       "      <td>2.456539</td>\n",
       "      <td>48.263890</td>\n",
       "      <td>51.736111</td>\n",
       "      <td>44.357635</td>\n",
       "      <td>633.333313</td>\n",
       "      <td>75.648020</td>\n",
       "      <td>13.679110</td>\n",
       "      <td>16.167530</td>\n",
       "      <td>15.494790</td>\n",
       "      <td>15.082470</td>\n",
       "      <td>...</td>\n",
       "      <td>40.509260</td>\n",
       "      <td>45.138890</td>\n",
       "      <td>43.113426</td>\n",
       "      <td>146.122700</td>\n",
       "      <td>53.530090</td>\n",
       "      <td>0.000000</td>\n",
       "      <td>1.000000</td>\n",
       "      <td>0.0</td>\n",
       "      <td>0.000000</td>\n",
       "      <td>0.000000</td>\n",
       "    </tr>\n",
       "    <tr>\n",
       "      <th>75%</th>\n",
       "      <td>2.499826</td>\n",
       "      <td>49.565970</td>\n",
       "      <td>52.907986</td>\n",
       "      <td>45.355900</td>\n",
       "      <td>637.963000</td>\n",
       "      <td>80.601970</td>\n",
       "      <td>14.568870</td>\n",
       "      <td>16.427950</td>\n",
       "      <td>15.697340</td>\n",
       "      <td>15.118630</td>\n",
       "      <td>...</td>\n",
       "      <td>45.428240</td>\n",
       "      <td>51.793980</td>\n",
       "      <td>46.875000</td>\n",
       "      <td>213.252300</td>\n",
       "      <td>61.342594</td>\n",
       "      <td>0.000000</td>\n",
       "      <td>1.000000</td>\n",
       "      <td>0.0</td>\n",
       "      <td>0.000000</td>\n",
       "      <td>1.000000</td>\n",
       "    </tr>\n",
       "    <tr>\n",
       "      <th>max</th>\n",
       "      <td>2.549016</td>\n",
       "      <td>56.727430</td>\n",
       "      <td>56.032990</td>\n",
       "      <td>48.220490</td>\n",
       "      <td>800.000000</td>\n",
       "      <td>99.999880</td>\n",
       "      <td>15.964990</td>\n",
       "      <td>19.133390</td>\n",
       "      <td>19.538480</td>\n",
       "      <td>18.988710</td>\n",
       "      <td>...</td>\n",
       "      <td>311.342600</td>\n",
       "      <td>370.370400</td>\n",
       "      <td>220.486100</td>\n",
       "      <td>561.632000</td>\n",
       "      <td>458.622700</td>\n",
       "      <td>1.000000</td>\n",
       "      <td>1.000000</td>\n",
       "      <td>0.0</td>\n",
       "      <td>1.000000</td>\n",
       "      <td>1.000000</td>\n",
       "    </tr>\n",
       "  </tbody>\n",
       "</table>\n",
       "<p>8 rows × 54 columns</p>\n",
       "</div>"
      ],
      "text/plain": [
       "           sensor_00      sensor_01      sensor_02      sensor_03  \\\n",
       "count  205843.000000  205843.000000  205843.000000  205843.000000   \n",
       "mean        2.420437      48.186290      51.636893      44.166968   \n",
       "std         0.242638       2.246675       1.878307       1.668246   \n",
       "min         0.000000       0.000000      37.413190      33.289930   \n",
       "25%         2.444734      46.701390      50.651040      43.142361   \n",
       "50%         2.456539      48.263890      51.736111      44.357635   \n",
       "75%         2.499826      49.565970      52.907986      45.355900   \n",
       "max         2.549016      56.727430      56.032990      48.220490   \n",
       "\n",
       "           sensor_04      sensor_05      sensor_06      sensor_07  \\\n",
       "count  205843.000000  205843.000000  205843.000000  205843.000000   \n",
       "mean      625.663672      75.388813      13.864926      16.165907   \n",
       "std        50.857103       9.384401       0.865803       0.601501   \n",
       "min         2.798032       0.000000       0.014468       0.028935   \n",
       "25%       628.240700      70.501090      13.382520      15.950520   \n",
       "50%       633.333313      75.648020      13.679110      16.167530   \n",
       "75%       637.963000      80.601970      14.568870      16.427950   \n",
       "max       800.000000      99.999880      15.964990      19.133390   \n",
       "\n",
       "           sensor_08      sensor_09  ...      sensor_45      sensor_46  \\\n",
       "count  205843.000000  205843.000000  ...  205843.000000  205843.000000   \n",
       "mean       15.478043      15.086584  ...      43.783973      48.858442   \n",
       "std         0.589581       0.573911  ...      12.439357      14.677599   \n",
       "min         0.028935       0.007234  ...      27.199070      29.513889   \n",
       "25%        15.183740      15.053530  ...      37.615740      41.087960   \n",
       "50%        15.494790      15.082470  ...      40.509260      45.138890   \n",
       "75%        15.697340      15.118630  ...      45.428240      51.793980   \n",
       "max        19.538480      18.988710  ...     311.342600     370.370400   \n",
       "\n",
       "           sensor_47      sensor_48      sensor_49  STATUS__BROKEN  \\\n",
       "count  205843.000000  205843.000000  205843.000000   205843.000000   \n",
       "mean       45.047070     158.885860      58.570222        0.000034   \n",
       "std         9.999353      78.707095      17.939513        0.005831   \n",
       "min        28.935180      28.935180      29.224537        0.000000   \n",
       "25%        39.641200      92.592590      48.900460        0.000000   \n",
       "50%        43.113426     146.122700      53.530090        0.000000   \n",
       "75%        46.875000     213.252300      61.342594        0.000000   \n",
       "max       220.486100     561.632000     458.622700        1.000000   \n",
       "\n",
       "       STATUS__NORMAL  STATUS__RECOVERING  forecast_indicator  \\\n",
       "count   205843.000000            205843.0       205843.000000   \n",
       "mean         0.999966                 0.0            0.228699   \n",
       "std          0.005831                 0.0            0.419996   \n",
       "min          0.000000                 0.0            0.000000   \n",
       "25%          1.000000                 0.0            0.000000   \n",
       "50%          1.000000                 0.0            0.000000   \n",
       "75%          1.000000                 0.0            0.000000   \n",
       "max          1.000000                 0.0            1.000000   \n",
       "\n",
       "       target_indicator  \n",
       "count     205843.000000  \n",
       "mean           0.368611  \n",
       "std            0.482429  \n",
       "min            0.000000  \n",
       "25%            0.000000  \n",
       "50%            0.000000  \n",
       "75%            1.000000  \n",
       "max            1.000000  \n",
       "\n",
       "[8 rows x 54 columns]"
      ]
     },
     "execution_count": 15,
     "metadata": {},
     "output_type": "execute_result"
    }
   ],
   "source": [
    "df.describe()"
   ]
  },
  {
   "cell_type": "code",
   "execution_count": 16,
   "metadata": {
    "execution": {
     "iopub.execute_input": "2022-02-16T12:46:36.425873Z",
     "iopub.status.busy": "2022-02-16T12:46:36.425653Z",
     "iopub.status.idle": "2022-02-16T12:46:36.723335Z",
     "shell.execute_reply": "2022-02-16T12:46:36.722468Z",
     "shell.execute_reply.started": "2022-02-16T12:46:36.425844Z"
    }
   },
   "outputs": [],
   "source": [
    "# add fake high limit alarms\n",
    "alarm_limit = 0.98 # top quantile\n",
    "for sensor in sensors:\n",
    "    col_nm = sensor+'_hi_alm'\n",
    "    lmt = df[sensor].quantile(alarm_limit)\n",
    "    df[col_nm] = df[sensor]>lmt\n",
    "    df[col_nm] = df[col_nm].astype(int)"
   ]
  },
  {
   "cell_type": "code",
   "execution_count": 17,
   "metadata": {
    "execution": {
     "iopub.execute_input": "2022-02-16T12:46:36.725062Z",
     "iopub.status.busy": "2022-02-16T12:46:36.724775Z",
     "iopub.status.idle": "2022-02-16T12:46:37.075661Z",
     "shell.execute_reply": "2022-02-16T12:46:37.074960Z",
     "shell.execute_reply.started": "2022-02-16T12:46:36.724996Z"
    }
   },
   "outputs": [],
   "source": [
    "# add fake low limit alarms\n",
    "alarm_limit = 0.02 # bottom quantile\n",
    "for sensor in sensors:\n",
    "    col_nm = sensor+'_lo_alm'\n",
    "    lmt = df[sensor].quantile(alarm_limit)\n",
    "    df[col_nm] = df[sensor]<lmt\n",
    "    df[col_nm] = df[col_nm].astype(int)"
   ]
  },
  {
   "cell_type": "code",
   "execution_count": 18,
   "metadata": {
    "execution": {
     "iopub.execute_input": "2022-02-16T12:46:37.077584Z",
     "iopub.status.busy": "2022-02-16T12:46:37.077284Z",
     "iopub.status.idle": "2022-02-16T12:46:37.997987Z",
     "shell.execute_reply": "2022-02-16T12:46:37.997115Z",
     "shell.execute_reply.started": "2022-02-16T12:46:37.077544Z"
    }
   },
   "outputs": [],
   "source": [
    "# add rolling alarm sums\n",
    "for col in df.columns:\n",
    "    if '_alm' in col:\n",
    "        df[col+'_rolling'] = df[col].rolling(window=f'{feature_window.days}D').sum()/float(feature_window.days)"
   ]
  },
  {
   "cell_type": "code",
   "execution_count": 19,
   "metadata": {
    "execution": {
     "iopub.execute_input": "2022-02-16T12:46:38.149575Z",
     "iopub.status.busy": "2022-02-16T12:46:38.149363Z",
     "iopub.status.idle": "2022-02-16T12:46:38.154733Z",
     "shell.execute_reply": "2022-02-16T12:46:38.153798Z",
     "shell.execute_reply.started": "2022-02-16T12:46:38.149549Z"
    }
   },
   "outputs": [],
   "source": [
    "X_col = []\n",
    "for col in df.columns:\n",
    "    if 'rolling' in col:\n",
    "        X_col.append(col)\n",
    "y_col = ['forecast_indicator']"
   ]
  },
  {
   "cell_type": "code",
   "execution_count": 20,
   "metadata": {
    "execution": {
     "iopub.execute_input": "2022-02-16T12:46:38.156221Z",
     "iopub.status.busy": "2022-02-16T12:46:38.155971Z",
     "iopub.status.idle": "2022-02-16T12:46:44.093735Z",
     "shell.execute_reply": "2022-02-16T12:46:44.092943Z",
     "shell.execute_reply.started": "2022-02-16T12:46:38.156193Z"
    }
   },
   "outputs": [
    {
     "data": {
      "text/html": [
       "<div>\n",
       "<style scoped>\n",
       "    .dataframe tbody tr th:only-of-type {\n",
       "        vertical-align: middle;\n",
       "    }\n",
       "\n",
       "    .dataframe tbody tr th {\n",
       "        vertical-align: top;\n",
       "    }\n",
       "\n",
       "    .dataframe thead th {\n",
       "        text-align: right;\n",
       "    }\n",
       "</style>\n",
       "<table border=\"1\" class=\"dataframe\">\n",
       "  <thead>\n",
       "    <tr style=\"text-align: right;\">\n",
       "      <th></th>\n",
       "      <th>forecast_indicator</th>\n",
       "    </tr>\n",
       "  </thead>\n",
       "  <tbody>\n",
       "    <tr>\n",
       "      <th>sensor_49_lo_alm_rolling</th>\n",
       "      <td>0.475901</td>\n",
       "    </tr>\n",
       "    <tr>\n",
       "      <th>sensor_06_lo_alm_rolling</th>\n",
       "      <td>0.465625</td>\n",
       "    </tr>\n",
       "    <tr>\n",
       "      <th>sensor_48_lo_alm_rolling</th>\n",
       "      <td>0.397725</td>\n",
       "    </tr>\n",
       "    <tr>\n",
       "      <th>sensor_47_lo_alm_rolling</th>\n",
       "      <td>0.364988</td>\n",
       "    </tr>\n",
       "    <tr>\n",
       "      <th>sensor_05_hi_alm_rolling</th>\n",
       "      <td>0.358025</td>\n",
       "    </tr>\n",
       "    <tr>\n",
       "      <th>sensor_38_lo_alm_rolling</th>\n",
       "      <td>0.348829</td>\n",
       "    </tr>\n",
       "    <tr>\n",
       "      <th>sensor_43_lo_alm_rolling</th>\n",
       "      <td>0.338186</td>\n",
       "    </tr>\n",
       "    <tr>\n",
       "      <th>sensor_46_lo_alm_rolling</th>\n",
       "      <td>0.325398</td>\n",
       "    </tr>\n",
       "    <tr>\n",
       "      <th>sensor_10_lo_alm_rolling</th>\n",
       "      <td>0.322503</td>\n",
       "    </tr>\n",
       "    <tr>\n",
       "      <th>sensor_07_lo_alm_rolling</th>\n",
       "      <td>0.315889</td>\n",
       "    </tr>\n",
       "  </tbody>\n",
       "</table>\n",
       "</div>"
      ],
      "text/plain": [
       "                          forecast_indicator\n",
       "sensor_49_lo_alm_rolling            0.475901\n",
       "sensor_06_lo_alm_rolling            0.465625\n",
       "sensor_48_lo_alm_rolling            0.397725\n",
       "sensor_47_lo_alm_rolling            0.364988\n",
       "sensor_05_hi_alm_rolling            0.358025\n",
       "sensor_38_lo_alm_rolling            0.348829\n",
       "sensor_43_lo_alm_rolling            0.338186\n",
       "sensor_46_lo_alm_rolling            0.325398\n",
       "sensor_10_lo_alm_rolling            0.322503\n",
       "sensor_07_lo_alm_rolling            0.315889"
      ]
     },
     "execution_count": 20,
     "metadata": {},
     "output_type": "execute_result"
    }
   ],
   "source": [
    "top_ten_corr = df[X_col+y_col].corr().loc[X_col].abs()[y_col].sort_values(by=y_col,ascending=False).iloc[:10]\n",
    "top_ten_corr"
   ]
  },
  {
   "cell_type": "markdown",
   "metadata": {},
   "source": [
    "## Build Models"
   ]
  },
  {
   "cell_type": "code",
   "execution_count": 21,
   "metadata": {
    "execution": {
     "iopub.execute_input": "2022-02-16T12:51:08.000507Z",
     "iopub.status.busy": "2022-02-16T12:51:07.999848Z",
     "iopub.status.idle": "2022-02-16T12:51:08.816761Z",
     "shell.execute_reply": "2022-02-16T12:51:08.815893Z",
     "shell.execute_reply.started": "2022-02-16T12:51:08.000466Z"
    }
   },
   "outputs": [
    {
     "name": "stdout",
     "output_type": "stream",
     "text": [
      "X Train (174966, 10)\n",
      "X Test (30877, 10)\n",
      "y Train (174966, 1)\n",
      "y Test (30877, 1)\n"
     ]
    }
   ],
   "source": [
    "# Split out Data\n",
    "from sklearn.model_selection import train_test_split\n",
    "\n",
    "X = df[list(top_ten_corr.index)].values\n",
    "y = df[y_col].values\n",
    "# Stratified test train split\n",
    "np.random.seed(42)\n",
    "X_train, X_test, y_train, y_test = train_test_split(X, y, stratify=y, test_size=0.15)\n",
    "print(f'X Train {X_train.shape}')\n",
    "print(f'X Test {X_test.shape}')\n",
    "print(f'y Train {y_train.shape}')\n",
    "print(f'y Test {y_test.shape}')\n"
   ]
  },
  {
   "cell_type": "code",
   "execution_count": 22,
   "metadata": {
    "execution": {
     "iopub.execute_input": "2022-02-16T12:52:17.049781Z",
     "iopub.status.busy": "2022-02-16T12:52:17.049486Z",
     "iopub.status.idle": "2022-02-16T12:52:17.056187Z",
     "shell.execute_reply": "2022-02-16T12:52:17.055329Z",
     "shell.execute_reply.started": "2022-02-16T12:52:17.049748Z"
    }
   },
   "outputs": [
    {
     "name": "stdout",
     "output_type": "stream",
     "text": [
      "Full Dataset Failures 22.87%\n",
      "Test Set Failures 22.87%\n",
      "Train Set Failures 22.87%\n"
     ]
    }
   ],
   "source": [
    "# Check Stratification Original Data was ~ 5% stroke victims\n",
    "print(f'Full Dataset Failures {y.mean()*100:0.2f}%')\n",
    "print(f'Test Set Failures {y_test.mean()*100:0.2f}%')\n",
    "print(f'Train Set Failures {y_train.mean()*100:0.2f}%')"
   ]
  },
  {
   "cell_type": "code",
   "execution_count": 23,
   "metadata": {
    "execution": {
     "iopub.execute_input": "2022-02-16T12:53:07.444799Z",
     "iopub.status.busy": "2022-02-16T12:53:07.444353Z",
     "iopub.status.idle": "2022-02-16T12:53:07.512350Z",
     "shell.execute_reply": "2022-02-16T12:53:07.511737Z",
     "shell.execute_reply.started": "2022-02-16T12:53:07.444760Z"
    }
   },
   "outputs": [
    {
     "name": "stdout",
     "output_type": "stream",
     "text": [
      "X Train Undersample (269904, 10)\n",
      "y Train Undersample (269904,)\n",
      "\n",
      "y Train Undersample Set Failures 50.00%\n"
     ]
    }
   ],
   "source": [
    "# Over sample the minority\n",
    "from imblearn.over_sampling import RandomOverSampler\n",
    "resample = RandomOverSampler()\n",
    "np.random.seed(42)\n",
    "X_train_smpl, y_train_smpl = resample.fit_resample(X_train,y_train)\n",
    "print(f'X Train Undersample {X_train_smpl.shape}')\n",
    "print(f'y Train Undersample {y_train_smpl.shape}')\n",
    "print()\n",
    "print(f'y Train Undersample Set Failures {y_train_smpl.mean()*100:0.2f}%')"
   ]
  },
  {
   "cell_type": "code",
   "execution_count": 27,
   "metadata": {
    "execution": {
     "iopub.execute_input": "2022-02-16T13:01:47.515150Z",
     "iopub.status.busy": "2022-02-16T13:01:47.514831Z",
     "iopub.status.idle": "2022-02-16T13:01:47.524737Z",
     "shell.execute_reply": "2022-02-16T13:01:47.523748Z",
     "shell.execute_reply.started": "2022-02-16T13:01:47.515119Z"
    }
   },
   "outputs": [],
   "source": [
    "from sklearn.ensemble import RandomForestClassifier, GradientBoostingClassifier\n",
    "from sklearn.svm import SVC\n",
    "from sklearn.linear_model import LogisticRegression\n",
    "from xgboost import XGBClassifier\n",
    "from sklearn.metrics import classification_report, precision_score,\\\n",
    "recall_score,f1_score,confusion_matrix, plot_confusion_matrix\n",
    "\n",
    "\n",
    "mdls = {#'lr': LogisticRegression(multi_class='ovr'),\n",
    "        #'svc': SVC(decision_function_shape='ovr'),\n",
    "        #'rf': RandomForestClassifier(n_jobs=-1),\n",
    "        'xgb': XGBClassifier(n_jobs=-1,eval_metric='auc'),\n",
    "        'gbc': GradientBoostingClassifier()\n",
    "        }\n",
    "\n",
    "prms = {#'lr': {'C': np.logspace(-4,4,9),\n",
    "              #'penalty': ['l1','l2']},\n",
    "        #'svc': {'C': np.logspace(-4,4,9)},\n",
    "        #'rf': {'n_estimators': [2**i for i in range(3,8)],\n",
    "               #'max_depth':  [8,16,32,64,None]},\n",
    "        'xgb': {#'min_child_weight': [4,5],\n",
    "                'gamma': [i/10.0 for i in range(3,6)],\n",
    "                #'subsample': [i/10.0 for i in range(6,11)],\n",
    "                #'colsample_bytree': [i/10.0 for i in range(6,11)],\n",
    "                'max_depth': [2,4,None]},\n",
    "        'gbc': {'n_estimators': [250,500],\n",
    "                'max_depth':  [1,5,9],\n",
    "                'learning_rate': [0.001,0.01,0.1]},\n",
    "        }"
   ]
  },
  {
   "cell_type": "code",
   "execution_count": 28,
   "metadata": {
    "execution": {
     "iopub.execute_input": "2022-02-16T13:15:08.444782Z",
     "iopub.status.busy": "2022-02-16T13:15:08.444067Z",
     "iopub.status.idle": "2022-02-16T13:15:08.451206Z",
     "shell.execute_reply": "2022-02-16T13:15:08.450177Z",
     "shell.execute_reply.started": "2022-02-16T13:15:08.444737Z"
    }
   },
   "outputs": [],
   "source": [
    "from sklearn.model_selection import GridSearchCV\n",
    "import joblib\n",
    "\n",
    "def train_model(key,models,params):\n",
    "    print('Training model: {}'.format(key))\n",
    "    gs_cv = GridSearchCV(models[key],params[key], cv = 5,\n",
    "                         scoring='roc_auc', n_jobs = -1, verbose=2)\n",
    "    best_est = gs_cv.fit(X_train_smpl, y_train_smpl)\n",
    "    print('Best Estimator: {}'.format(best_est.best_params_))\n",
    "    print('Best Estimator Score: {}'.format(best_est.best_score_))\n",
    "    joblib.dump(best_est.best_estimator_,'{}_tr.pkl'.format(key))"
   ]
  },
  {
   "cell_type": "code",
   "execution_count": null,
   "metadata": {
    "execution": {
     "iopub.execute_input": "2022-02-16T13:15:10.845589Z",
     "iopub.status.busy": "2022-02-16T13:15:10.844890Z",
     "iopub.status.idle": "2022-02-16T13:40:28.521740Z",
     "shell.execute_reply": "2022-02-16T13:40:28.520290Z",
     "shell.execute_reply.started": "2022-02-16T13:15:10.845547Z"
    }
   },
   "outputs": [
    {
     "name": "stdout",
     "output_type": "stream",
     "text": [
      "Training model: xgb\n",
      "Fitting 5 folds for each of 9 candidates, totalling 45 fits\n",
      "[08:11:44] WARNING: C:/Users/Administrator/workspace/xgboost-win64_release_1.5.1/src/learner.cc:1115: Starting in XGBoost 1.3.0, the default evaluation metric used with the objective 'binary:logistic' was changed from 'error' to 'logloss'. Explicitly set eval_metric if you'd like to restore the old behavior.\n",
      "Best Estimator: {'gamma': 0.3, 'max_depth': None}\n",
      "Best Estimator Score: 0.9994200850539684\n",
      "Training model: gbc\n",
      "Fitting 5 folds for each of 18 candidates, totalling 90 fits\n"
     ]
    }
   ],
   "source": [
    "for mname in mdls.keys():\n",
    "    train_model(mname,mdls,prms)"
   ]
  },
  {
   "cell_type": "markdown",
   "metadata": {},
   "source": [
    "Training model: lr\n",
    "Fitting 5 folds for each of 18 candidates, totalling 90 fits\n",
    "Best Estimator: {'C': 0.001, 'penalty': 'l2'}\n",
    "Best Estimator Score: 0.9453768328770888\n",
    "\n",
    "Training model: rf\n",
    "Fitting 5 folds for each of 25 candidates, totalling 125 fits\n",
    "Best Estimator: {'max_depth': 32, 'n_estimators': 16}\n",
    "Best Estimator Score: 0.9994215840382846\n",
    "\n",
    "Training model: xgb\n",
    "Fitting 5 folds for each of 9 candidates, totalling 45 fits\n",
    "Best Estimator: {'gamma': 0.3, 'max_depth': None}\n",
    "Best Estimator Score: 0.9994200850539684\n",
    "\n",
    "Training model: gbc\n",
    "Fitting 5 folds for each of 18 candidates, totalling 90 fits"
   ]
  },
  {
   "cell_type": "code",
   "execution_count": null,
   "metadata": {},
   "outputs": [],
   "source": []
  }
 ],
 "metadata": {
  "kernelspec": {
   "display_name": "Python 3 (ipykernel)",
   "language": "python",
   "name": "python3"
  },
  "language_info": {
   "codemirror_mode": {
    "name": "ipython",
    "version": 3
   },
   "file_extension": ".py",
   "mimetype": "text/x-python",
   "name": "python",
   "nbconvert_exporter": "python",
   "pygments_lexer": "ipython3",
   "version": "3.9.10"
  }
 },
 "nbformat": 4,
 "nbformat_minor": 4
}
